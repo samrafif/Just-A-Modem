{
 "cells": [
  {
   "cell_type": "code",
   "execution_count": 6,
   "metadata": {},
   "outputs": [],
   "source": [
    "import numpy as np\n",
    "from matplotlib import pyplot as plt"
   ]
  },
  {
   "cell_type": "code",
   "execution_count": 7,
   "metadata": {},
   "outputs": [],
   "source": [
    "signals = []\n",
    "resolution = 1000 # how many datapoints to generate\n",
    "\n",
    "for i in range(1,251,1):\n",
    "  cycles = i # how many sine cycles\n",
    "  length = np.pi * 2 * cycles\n",
    "  my_wave = np.sin(np.arange(0, length, length / resolution))\n",
    "  signals.append(my_wave)\n",
    "  # plt.title(f\"{i}HZ\")\n",
    "  # plt.subplot(1, 2, 1)\n",
    "  # plt.plot(my_wave)\n",
    "  # plt.title(\"TIME DOMAIN\")\n",
    "\n",
    "  # sp = np.fft.fft(my_wave)\n",
    "  # N = len(sp)\n",
    "  # n = np.arange(N)\n",
    "  # T = N/resolution\n",
    "  # freq = n/T\n",
    "\n",
    "  # plt.subplot(1, 2, 2)\n",
    "  # plt.title(\"FREQ DOMAIN\")\n",
    "  # plt.xlim(0, 50)\n",
    "  # plt.stem(freq, abs(sp))\n",
    "  # plt.tight_layout()\n",
    "  # plt.show()"
   ]
  },
  {
   "cell_type": "code",
   "execution_count": 8,
   "metadata": {},
   "outputs": [],
   "source": [
    "from scipy.interpolate import interp1d\n",
    "from scipy.io import wavfile\n",
    "m = interp1d([min(signals[0]),max(signals[0])],[0,255])"
   ]
  },
  {
   "cell_type": "code",
   "execution_count": 9,
   "metadata": {},
   "outputs": [],
   "source": [
    "wavfile.write(\"1hz.wav\", resolution, m(signals[0]).astype(np.uint8))"
   ]
  }
 ],
 "metadata": {
  "kernelspec": {
   "display_name": "Python 3",
   "language": "python",
   "name": "python3"
  },
  "language_info": {
   "codemirror_mode": {
    "name": "ipython",
    "version": 3
   },
   "file_extension": ".py",
   "mimetype": "text/x-python",
   "name": "python",
   "nbconvert_exporter": "python",
   "pygments_lexer": "ipython3",
   "version": "3.11.5"
  }
 },
 "nbformat": 4,
 "nbformat_minor": 2
}
